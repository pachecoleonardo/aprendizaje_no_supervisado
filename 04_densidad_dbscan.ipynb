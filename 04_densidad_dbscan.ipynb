{
  "nbformat": 4,
  "nbformat_minor": 0,
  "metadata": {
    "colab": {
      "name": "Copia de 04_densidad_dbscan.ipynb",
      "version": "0.3.2",
      "provenance": [],
      "collapsed_sections": [],
      "include_colab_link": true
    },
    "kernelspec": {
      "display_name": "Python 3",
      "language": "python",
      "name": "python3"
    }
  },
  "cells": [
    {
      "cell_type": "markdown",
      "metadata": {
        "id": "view-in-github",
        "colab_type": "text"
      },
      "source": [
        "<a href=\"https://colab.research.google.com/github/pachecoleonardo/aprendizaje_no_supervisado/blob/master/04_densidad_dbscan.ipynb\" target=\"_parent\"><img src=\"https://colab.research.google.com/assets/colab-badge.svg\" alt=\"Open In Colab\"/></a>"
      ]
    },
    {
      "metadata": {
        "id": "xzmoHHophka-",
        "colab_type": "text"
      },
      "cell_type": "markdown",
      "source": [
        "<center><h1> Aplicación de los Métodos de Agrupamiento</h1></center>\n",
        "<center><h1> Aprendizaje No Supervisado</h1></center>\n",
        "<center><h1> Agrupamiento basado en densidad : DBSCAN</h1></center>\n",
        "<br>\n",
        "\n",
        "### - Alexandro López González\n",
        "### - Leonardo Pacheco Garduño\n",
        "### - Manuel Garcia Sanes\n",
        "<br>\n",
        "<br>\n",
        "\n",
        "En este notebook, realizaremos los siguiente:\n",
        "\n",
        "- Aplicación del algoritmo DBSCAN  a los dos datasets seleccionados. \n",
        "\n",
        "- Evaluación de los resultados utilizando métricas intrínsecas o extrínsecas según sea el caso\n",
        "\n",
        "- Análisis del resultado\n",
        "<br>\n",
        "<br>\n"
      ]
    },
    {
      "metadata": {
        "id": "iyFAQ6kXablT",
        "colab_type": "text"
      },
      "cell_type": "markdown",
      "source": [
        "## 1. Cargamos las librerias necesarias"
      ]
    },
    {
      "metadata": {
        "id": "PZmDWQBHhkbA",
        "colab_type": "code",
        "colab": {}
      },
      "cell_type": "code",
      "source": [
        "import numpy as np\n",
        "import pandas as pd\n",
        "import matplotlib.pyplot as plt"
      ],
      "execution_count": 0,
      "outputs": []
    },
    {
      "metadata": {
        "id": "0wlALWq2afhb",
        "colab_type": "text"
      },
      "cell_type": "markdown",
      "source": [
        "\n",
        "## 2. Cargamos el dataset con agrupamiento conocido\n",
        "\n",
        "**Nombre:<br>\n",
        "\n",
        "SEEDS<br>\n",
        "\n",
        "**Abstract: \n",
        "\n",
        "Measurements of geometrical properties of kernels belonging to three different varieties of wheat. A soft X-ray technique and GRAINS package were used to construct all seven, real-valued attributes.<br>\n",
        "\n",
        "**Atributos (Reales): <br>\n",
        "\n",
        "area A,<br>\n",
        "perimeter P,<br>\n",
        "compactness C = 4piA/P^2,<br>\n",
        "length of kernel,<br>\n",
        "width of kernel,<br>\n",
        "asymmetry coefficient<br>\n",
        "length of kernel groove. All of these parameters were real-valued continuous.<br>\n",
        "\n",
        "**Instancias:**<br>\n",
        "\n",
        "210<br>\n",
        "\n",
        "URL:<br>\n",
        "https://archive.ics.uci.edu/ml/datasets/seeds#"
      ]
    },
    {
      "metadata": {
        "scrolled": true,
        "id": "O9TTvNgLhkbH",
        "colab_type": "code",
        "outputId": "f247e2e5-6f11-467c-b26a-a89246787139",
        "colab": {
          "base_uri": "https://localhost:8080/",
          "height": 337
        }
      },
      "cell_type": "code",
      "source": [
        "np.random.seed(17) # Fijamos una semilla para asegurar la reproducibilidad de la práctica\n",
        "\n",
        "# Cargamos los datos\n",
        "data_file_url = 'https://archive.ics.uci.edu/ml/machine-learning-databases/00236/seeds_dataset.txt'\n",
        "\n",
        "# Mezclamos y separamos la columna clase\n",
        "D = np.array(pd.read_csv(data_file_url,delimiter='\\s+', header=None))\n",
        "D = D[ np.random.choice(np.arange(D.shape[0]), D.shape[0], replace=False) ,:]\n",
        "Dx = D[:,0:-1]\n",
        "Dy = D[:,-1]\n",
        "\n",
        "#Mostrar graficamente los datos (solo 3 atributos)\n",
        "fig, ax = plt.subplots(figsize=(10,5))\n",
        "ax.scatter(Dx[:,0], Dx[:,1], c = Dy)\n",
        "\n",
        "print('El dataset cargado tiene',Dx.shape[0],'instancias,', Dx.shape[1], 'atributos y' ,len(np.unique(Dy)) , 'clusters.')"
      ],
      "execution_count": 3,
      "outputs": [
        {
          "output_type": "stream",
          "text": [
            "El dataset cargado tiene 210 instancias, 7 atributos y 3 clusters.\n"
          ],
          "name": "stdout"
        },
        {
          "output_type": "display_data",
          "data": {
            "image/png": "[encoded data removed]",
            "text/plain": [
              "<Figure size 720x360 with 1 Axes>"
            ]
          },
          "metadata": {
            "tags": []
          }
        }
      ]
    },
    {
      "metadata": {
        "id": "rkyahOXHhkbK",
        "colab_type": "text"
      },
      "cell_type": "markdown",
      "source": [
        "\n",
        "Uno de los pasos clave del algoritmo DBSCAN es el descubrimiento del vecindario (de un ejemplo $x_i$). Para ello sólo se precisa de la matriz de distancias y el parámetro $\\epsilon$ que marca un umbral en la distancia máxima entre dos puntos que define el vecindario:\n"
      ]
    },
    {
      "metadata": {
        "id": "s6OspWQmhkbK",
        "colab_type": "code",
        "colab": {}
      },
      "cell_type": "code",
      "source": [
        "# Descubrimiento del vecinadario\n",
        "\n",
        "def encuentra_vecindario(mDistancia, i, eps):\n",
        "    vecinos = np.where(mDistancia[i,:] < eps)[0]\n",
        "    \n",
        "    vecinos = vecinos[vecinos != i]\n",
        "            \n",
        "    return vecinos"
      ],
      "execution_count": 0,
      "outputs": []
    },
    {
      "metadata": {
        "id": "jr9b8CC6hkbM",
        "colab_type": "text"
      },
      "cell_type": "markdown",
      "source": [
        "\n",
        "Aparte de ello, el algoritmo DBSCAN recorre el conjunto de datos y para cada ejemplo, si no ha sido asignado a otro clúster y tiene un número de vecinos mínimo necesario $M$, crea un nuevo clúster y asigna al mismo todos los ejemplos no asignados denso-alcanzables:\n"
      ]
    },
    {
      "metadata": {
        "id": "twCtA3dGhkbN",
        "colab_type": "code",
        "colab": {}
      },
      "cell_type": "code",
      "source": [
        "def agrupamiento_densidad_DBSCAN(mDistancia, eps, M):\n",
        " \n",
        "    labels = np.zeros(mDistancia.shape[0])\n",
        "    C = 0\n",
        "    \n",
        "    for i in np.arange(mDistancia.shape[0]):\n",
        "    \n",
        "        if labels[i] != 0:\n",
        "            continue\n",
        "        \n",
        "        vecindario = encuentra_vecindario(mDistancia, i, eps)\n",
        "        \n",
        "        if len(vecindario)<M:\n",
        "            # Si NO es un punto nuclear\n",
        "            labels[i] = -1\n",
        "        else:  \n",
        "            # Si es un punto nuclear\n",
        "            C += 1\n",
        "            labels[i] = C\n",
        "            expandir_cluster(mDistancia, labels, vecindario, C, eps, M)\n",
        "    \n",
        "    return labels"
      ],
      "execution_count": 0,
      "outputs": []
    },
    {
      "metadata": {
        "id": "I46vwd5NhkbQ",
        "colab_type": "text"
      },
      "cell_type": "markdown",
      "source": [
        "\n",
        "La función 'expandir_cluster' trata de asignar otros ejemplos más allá del vecindario de $x_i$ al nuevo clúster que se ha creado para él. Busca entre los ejemplos del vecindario actual y si alguno de ellos es un punto nuclear (mínimo número de vecinos, $M$), se incorpora su vecindario al vecindario del clúster que se está explorando. Todos los elementos del vecindario se asignan al clúster:\n"
      ]
    },
    {
      "metadata": {
        "id": "fcG7XX2ShkbQ",
        "colab_type": "code",
        "colab": {}
      },
      "cell_type": "code",
      "source": [
        "def expandir_cluster(mDistancia, labels, vecindario, C, eps, M):\n",
        "    it = 0\n",
        "    while it < vecindario.size:\n",
        "        j = vecindario[it]\n",
        "       \n",
        "        if labels[j] == -1:\n",
        "            labels[j] = C\n",
        "        elif labels[j] == 0:\n",
        "            labels[j] = C\n",
        "            \n",
        "            vecindario_j = encuentra_vecindario(mDistancia, j, eps)\n",
        "            \n",
        "            if vecindario_j.size >= M:\n",
        "                vecindario = np.append(vecindario, vecindario_j)\n",
        "        it += 1        "
      ],
      "execution_count": 0,
      "outputs": []
    },
    {
      "metadata": {
        "id": "uJPIW4JdhkbT",
        "colab_type": "text"
      },
      "cell_type": "markdown",
      "source": [
        "\n",
        "Con estas tres funciones ya podemos ejecutar el algoritmo DBSCAN. Sólo necesitamos la matriz de distancias y asignar valor al umbral que define el vecindario ($\\epsilon$) y al umbral que define un punto nuclear ($M$):\n"
      ]
    },
    {
      "metadata": {
        "id": "hTOLdha0hkbT",
        "colab_type": "code",
        "colab": {}
      },
      "cell_type": "code",
      "source": [
        "from sklearn.metrics.pairwise import euclidean_distances\n",
        "\n",
        "eps = .08\n",
        "M = 42\n",
        "\n",
        "mDistancia = euclidean_distances(Dx)\n",
        "Dyp = agrupamiento_densidad_DBSCAN(mDistancia,eps,M)"
      ],
      "execution_count": 0,
      "outputs": []
    },
    {
      "metadata": {
        "id": "StEzSoq8hkbX",
        "colab_type": "text"
      },
      "cell_type": "markdown",
      "source": [
        "\n",
        "Dibujamos los resultados de la siguiente manera:\n"
      ]
    },
    {
      "metadata": {
        "scrolled": true,
        "id": "2E8meRashkbY",
        "colab_type": "code",
        "outputId": "456fbd6b-0fd0-46bf-d3a0-3b959627c279",
        "colab": {
          "base_uri": "https://localhost:8080/",
          "height": 337
        }
      },
      "cell_type": "code",
      "source": [
        "fig, ax = plt.subplots(1,2,figsize=(20,5))\n",
        "ax[0].scatter(Dx[:,0], Dx[:,1], c = Dy)\n",
        "ax[1].scatter(Dx[:,0], Dx[:,1], c = Dyp)"
      ],
      "execution_count": 12,
      "outputs": [
        {
          "output_type": "execute_result",
          "data": {
            "text/plain": [
              "<matplotlib.collections.PathCollection at 0x7fe712fcfa58>"
            ]
          },
          "metadata": {
            "tags": []
          },
          "execution_count": 12
        },
        {
          "output_type": "display_data",
          "data": {
            "image/png": "[encoded data removed]",
            "text/plain": [
              "<Figure size 1440x360 with 2 Axes>"
            ]
          },
          "metadata": {
            "tags": []
          }
        }
      ]
    },
    {
      "metadata": {
        "id": "PUkaFDHEhkbb",
        "colab_type": "text"
      },
      "cell_type": "markdown",
      "source": [
        "\n",
        "Y las métricas de bondad del agrupamiento son:<br>\n",
        "\n",
        "1. Matriz confusuón<br>\n",
        "2. Medida error<br>\n",
        "3. Medida pureza<br>\n",
        "4. Medida precisión<br>\n",
        "5. Medida recall<br>\n",
        "6. Medida f1 especifica<br>\n",
        "7. Medida f1\n",
        "\n",
        "\n",
        "\n"
      ]
    },
    {
      "metadata": {
        "id": "SchYUsZohkbc",
        "colab_type": "code",
        "outputId": "057ee7fb-46b9-4d3d-c453-71b1d54a6059",
        "colab": {
          "base_uri": "https://localhost:8080/",
          "height": 119
        }
      },
      "cell_type": "code",
      "source": [
        "def matriz_confusion(cat_real, cat_pred):\n",
        "    cats = np.unique(cat_real)\n",
        "    clusts = np.unique(cat_pred)\n",
        "    mat = np.array([[np.sum(np.logical_and(cat_real==cats[i], cat_pred==clusts[j])) \n",
        "                     for j in np.arange(clusts.size)] \n",
        "                    for i in np.arange(cats.size)])\n",
        "    return(mat)\n",
        "\n",
        "def medida_error(mat):\n",
        "    assign = np.sum([np.max(mat[l,:]) for l in np.arange(mat.shape[0])])\n",
        "    return 1 - assign / float(np.sum(mat))\n",
        "\n",
        "def medida_pureza(mat):\n",
        "    totales = np.sum(mat,0)/float(np.sum(mat))\n",
        "    return np.sum([totales[k] * np.max(mat[:,k]/float(np.sum(mat[:,k]))) for k in np.arange(mat.shape[1])])\n",
        "\n",
        "def medida_precision(mat, l, k):\n",
        "    return mat[l,k]/float(np.sum(mat[:,k]))\n",
        "\n",
        "def medida_recall(mat, l, k):\n",
        "    return mat[l,k]/float(np.sum(mat[l,:]))\n",
        "\n",
        "def medida_f1_especifica(mat, l, k):\n",
        "    prec = medida_precision(mat, l, k)\n",
        "    rec = medida_recall(mat, l, k)\n",
        "    if (prec+rec)==0:\n",
        "        return 0\n",
        "    else:\n",
        "        return 2*prec*rec/(prec+rec)\n",
        "\n",
        "def medida_f1(mat):\n",
        "    totales = np.sum(mat,1)/float(np.sum(mat))\n",
        "    assign = np.sum([totales[l] * np.max([medida_f1_especifica(mat, l, k) \n",
        "                                          for k in np.arange(mat.shape[1])]) \n",
        "                     for l in np.arange(mat.shape[0])])\n",
        "    return assign\n",
        "\n",
        "mC = matriz_confusion(Dy,Dyp)\n",
        "\n",
        "print(mC)\n",
        "print('El valor del error cometido es = ', medida_error(mC))\n",
        "print('La pureza del agrupamiento obtenido es = ', medida_pureza(mC))\n",
        "print('El valor F1 es = ', medida_f1(mC))"
      ],
      "execution_count": 13,
      "outputs": [
        {
          "output_type": "stream",
          "text": [
            "[[70]\n",
            " [70]\n",
            " [70]]\n",
            "El valor del error cometido es =  0.0\n",
            "La pureza del agrupamiento obtenido es =  0.3333333333333333\n",
            "El valor F1 es =  0.5\n"
          ],
          "name": "stdout"
        }
      ]
    },
    {
      "metadata": {
        "id": "tNFjZELqhkbe",
        "colab_type": "text"
      },
      "cell_type": "markdown",
      "source": [
        "\n",
        "Nótese que la primera columna no corresponde realmente a un clúster predicho, sino a todo los ejemplos que DBSCAN considera ruido y no asigna a ningún clúster.\n"
      ]
    }
  ]
}